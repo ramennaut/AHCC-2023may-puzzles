{
 "cells": [
  {
   "cell_type": "markdown",
   "id": "673f3722",
   "metadata": {},
   "source": [
    "## Question 5: What do I say when I am decoded? (3 marks)\n",
    "\n",
    "You are tasked with designing a variable-length decoding algorithm for a given set of bit strings.\n",
    "\n",
    "A variable-length code is an encoding mechanism where each symbol can be represented by a number of bits that varies from symbol to symbol.\n",
    "\n",
    "For example, `a` could be represented by `00`, `b` by `01`, `c` by `10`, etc. This kind of encoding is useful in situtations where some symbols appear more frequently than others, and hence, it makes sense to assign fewer bits to more frequent symbols.\n",
    "\n",
    "Your task is to write a function\n",
    "\n",
    "`decode(encoded: str, codebook: Dict[str,str]) -> str`\n",
    "\n",
    "which takes an encoded string and a codebook, and returns the original string. The function should return an error if the encoded string is not a valid encoding according to the codebook.\n",
    "\n",
    "Let's consider this notebok:\n",
    "\n",
    "`{'a': '00',\n",
    "'b': '01',\n",
    "'c': '10',\n",
    "'d': '1100',\n",
    "'e': '1101',\n",
    "'f': '1110',\n",
    "'g': '111100',\n",
    "'h': '111101',\n",
    "'i': '111110',\n",
    "'j': '1111110000',\n",
    "'k': '1111110001',\n",
    "'l': '1111110010',\n",
    "'m': '1111110011',\n",
    "'n': '1111110100',\n",
    "'o': '1111110101',\n",
    "'p': '1111110110',\n",
    "'q': '1111110111',\n",
    "'r': '1111111000',\n",
    "'s': '1111111001',\n",
    "'t': '1111111010',\n",
    "'u': '1111111011',\n",
    "'v': '1111111100',\n",
    "'w': '1111111101',\n",
    "'x': '1111111110',\n",
    "'y': '1111111111',\n",
    "'z': '11111111110000',\n",
    "' ': '11111111110001'}`\n",
    "\n",
    "**Example**\n",
    "\n",
    "`decode('0110', codebook)` should return `bc`.\n",
    "\n",
    "**What is the decoded phrase for this string?**\n",
    "\n",
    "`“11111011111111110001111111001011111101011111111100110111111111110001001111110100111100110111111100101111010010111111000111111111110001101111110101110011011111111111000110111101001111110010111111001011011111110100111100110111111111110001011101100011111110111111111001110111111111110001111110111111101011111111110001111110111111100111111111110001111011111110111111110100111111111100010011111101001100111111111100011101111111111010111110111111101011111011111101001111001111111111000100111111010011001111111111000111111011111111110001110011111011111110011111110010111110111111000111011111111111000111111110101111011101111111111100011111111101111111010111111110001100111111111100011111111111000111111111110001111111101011110100111111101011111111110001001111110110111111011011010011111110001111111001111111111100011111101111110100111111111100011111111010111101110111111111110001111111011011110111111110000011111110011101”`\n",
    "\n",
    "P.S. Use your best judgement to get the proper final answer -- the answer should make sense and be readabble! It's not a 3-mark question for no reason. :D"
   ]
  },
  {
   "cell_type": "code",
   "execution_count": 1,
   "id": "3fbc741f",
   "metadata": {},
   "outputs": [
    {
     "data": {
      "text/plain": [
       "'i love angelhack code challenge because it is fun and exciting and i dislike the word yab that appears in the phrase'"
      ]
     },
     "execution_count": 1,
     "metadata": {},
     "output_type": "execute_result"
    }
   ],
   "source": [
    "def decode(encoded, codebook):\n",
    "    phrase = ''\n",
    "    for i in range(len(encoded)):\n",
    "        for key, value in codebook.items():\n",
    "            if (value == encoded[i:i+len(value)]) and ('1111111111000111111111110001' not in encoded[i:i+len(value)+len(value)]):\n",
    "                phrase += key\n",
    "                for j in range(len(value)):\n",
    "                    encoded = encoded[:i+j] + \"*\" + encoded[i+j+1:]\n",
    "            elif ('1111111111000111111111110001' in encoded[i:i+len(value)+len(value)]):\n",
    "                # remove 'yab' by brute force\n",
    "                phrase += \" yab\"\n",
    "                for j in range(len(value)+len(value)):\n",
    "                    encoded = encoded[:i+j] + \"*\" + encoded[i+j+1:]\n",
    "    return phrase\n",
    "\n",
    "encoded = \"11111011111111110001111111001011111101011111111100110111111111110001001111110100111100110111111100101111010010111111000111111111110001101111110101110011011111111111000110111101001111110010111111001011011111110100111100110111111111110001011101100011111110111111111001110111111111110001111110111111101011111111110001111110111111100111111111110001111011111110111111110100111111111100010011111101001100111111111100011101111111111010111110111111101011111011111101001111001111111111000100111111010011001111111111000111111011111111110001110011111011111110011111110010111110111111000111011111111111000111111110101111011101111111111100011111111101111111010111111110001100111111111100011111111111000111111111110001111111101011110100111111101011111111110001001111110110111111011011010011111110001111111001111111111100011111101111110100111111111100011111111010111101110111111111110001111111011011110111111110000011111110011101\"\n",
    "\n",
    "codebook = {\n",
    "    'a': '00',\n",
    "    'b': '01',\n",
    "    'c': '10',\n",
    "    'd': '1100',\n",
    "    'e': '1101',\n",
    "    'f': '1110',\n",
    "    'g': '111100',\n",
    "    'h': '111101',\n",
    "    'i': '111110',\n",
    "    'j': '1111110000',\n",
    "    'k': '1111110001',\n",
    "    'l': '1111110010',\n",
    "    'm': '1111110011',\n",
    "    'n': '1111110100',\n",
    "    'o': '1111110101',\n",
    "    'p': '1111110110',\n",
    "    'q': '1111110111',\n",
    "    'r': '1111111000',\n",
    "    's': '1111111001',\n",
    "    't': '1111111010',\n",
    "    'u': '1111111011',\n",
    "    'v': '1111111100',\n",
    "    'w': '1111111101',\n",
    "    'x': '1111111110',\n",
    "    'z': '11111111110000',\n",
    "    ' ': '11111111110001',\n",
    "    'y': '1111111111'\n",
    "}\n",
    "\n",
    "decode(encoded, codebook)"
   ]
  },
  {
   "cell_type": "markdown",
   "id": "44ee932c",
   "metadata": {},
   "source": [
    "The decoded phrase for the given string is `'i love angelhack code challenge because it is fun and exciting and i dislike the word yab that appears in the phrase'`."
   ]
  }
 ],
 "metadata": {
  "kernelspec": {
   "display_name": "Python 3 (ipykernel)",
   "language": "python",
   "name": "python3"
  },
  "language_info": {
   "codemirror_mode": {
    "name": "ipython",
    "version": 3
   },
   "file_extension": ".py",
   "mimetype": "text/x-python",
   "name": "python",
   "nbconvert_exporter": "python",
   "pygments_lexer": "ipython3",
   "version": "3.9.13"
  }
 },
 "nbformat": 4,
 "nbformat_minor": 5
}
