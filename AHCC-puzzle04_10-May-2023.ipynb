{
 "cells": [
  {
   "cell_type": "markdown",
   "id": "673f3722",
   "metadata": {},
   "source": [
    "## Question 4: Find the group's efficiency (3 marks)\n",
    "\n",
    "A group of workers gathered to complete a task. Each worker has an efficiency rating. They will be grouped in pairs so an even number of workers are required. The cost of a pair is the absolute difference of the efficiencies assigned to the workers. The cost of the task is the sum of the costs of all pairs formed. There are an odd number of workers to choose from, so one worker will not be paired. Select the worker to exclude so the task's cost is minimized.\n",
    "\n",
    "Given n workers and efficiency for each worker, find a configuration of the workers such that the cost of the task is the minimum possible. **Return the minimum cost as the answer.**\n",
    "\n",
    "**First Example**\n",
    "\n",
    "`Efficiency = [1,2,4]`\n",
    "\n",
    "The first worker has an efficiency of 1, the second worker has an efficiency of 2, and the last worker has an efficiency of 4.\n",
    "\n",
    "If we excluded the first worker (1) and pair the second (2) and last worker (4), the cost is `|2-4|=2`.\n",
    "\n",
    "If we excluded the second worker (2), and pair the first and last worker instead, the cost is `|1-4|=3`.\n",
    "\n",
    "If we excluded the last worker (4), the cost is `|1-2|=1`.\n",
    "\n",
    "Thus the minimum cost is 1.\n",
    "\n",
    "**Second Example**\n",
    "\n",
    "`Efficiency = [4,2,8,1,9]`\n",
    "\n",
    "The first worker has an efficiency of 4, the second worker has an efficiency of 2, ..., the last worker has an efficiency of 9.\n",
    "\n",
    "If we exclude the first worker (4), and you pair up the second and third workers (2,8), and the fourth an fifth workers (1,9), the cost of the task is `|2-8|+|1-9|=14`.\n",
    "\n",
    "Can we do it differently? If we pair up the second fourth workers (2,1), and third and last worker (8,9), the cost of the task is `|2-1|+|8-9|=2`.\n",
    "\n",
    "Suppose we exclude the last worker who has an efficiency of 9, becuase we think that the largest inefficienct is bad. In that case, we have (4,2,8,1), and you won't be able to get a cost that's lower than 2.\n",
    "\n",
    "This is the minimum possible cost so return 2.\n",
    "\n",
    "**Task**\n",
    "\n",
    "What is the minimum cost of this array of efficiencies:\n",
    "\n",
    "`[1, 3, 54, 712, 52, 904, 113, 12, 135, 32, 31, 56, 23, 79, 611, 123, 677, 232, 997, 101, 111, 123, 2, 7, 24, 57, 99, 45, 666, 42, 104, 129, 554, 335, 876, 35, 15, 93, 13]`"
   ]
  },
  {
   "cell_type": "code",
   "execution_count": 1,
   "id": "0de496cf",
   "metadata": {},
   "outputs": [
    {
     "name": "stdout",
     "output_type": "stream",
     "text": [
      "475\n"
     ]
    }
   ],
   "source": [
    "given = [1, 3, 54, 712, 52, 904, 113, 12, 135, 32, 31, 56, 23, 79, 611, 123, 677, 232, 997, 101, 111, 123, 2, 7, 24, 57, 99, 45, 666, 42, 104, 129, 554, 335, 876, 35, 15, 93, 13]\n",
    "given.sort()\n",
    "cost = []\n",
    "for i in range(len(given)):\n",
    "    groups = [n for n in given]\n",
    "    groups.pop(i)\n",
    "    for j in range(1, len(groups)):\n",
    "        groups += [groups.pop(1)]\n",
    "        diff = []\n",
    "        for k in range(len(groups)):\n",
    "            if k % 2 ==1:\n",
    "                pair = [groups[k-1],groups[k]]\n",
    "                diff.append(max(pair)-min(pair))\n",
    "        cost.append(sum(diff))\n",
    "print(min(cost))"
   ]
  },
  {
   "cell_type": "markdown",
   "id": "8e24b6ae",
   "metadata": {},
   "source": [
    "The minimum cost of the given array of efficiencies is **475**."
   ]
  }
 ],
 "metadata": {
  "kernelspec": {
   "display_name": "Python 3 (ipykernel)",
   "language": "python",
   "name": "python3"
  },
  "language_info": {
   "codemirror_mode": {
    "name": "ipython",
    "version": 3
   },
   "file_extension": ".py",
   "mimetype": "text/x-python",
   "name": "python",
   "nbconvert_exporter": "python",
   "pygments_lexer": "ipython3",
   "version": "3.9.13"
  }
 },
 "nbformat": 4,
 "nbformat_minor": 5
}
