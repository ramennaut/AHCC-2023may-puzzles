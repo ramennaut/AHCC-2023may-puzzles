{
 "cells": [
  {
   "cell_type": "markdown",
   "id": "673f3722",
   "metadata": {},
   "source": [
    "## Question 6: How many steps are needed to disconnect the string? (5 marks)\n",
    "\n",
    "A secure communication network has been compromised and the cyber security team must restore its security. The network, series, is represented as a series of nodes identified using lowercase English letters. The nodes must be disconnected in order to remove the threat. In a single operation, any number of adjacent nodes identified by the same character can be disconnected. Find the minimum number of operations required to disconnect all the nodes and secure the network.\n",
    "\n",
    "**Example**\n",
    "\n",
    "Suppose we have a series that goes \"aabbaa\".\n",
    "\n",
    "To remove the string entirely, you'd first have to get rid of \"bb\" to get \"aaaa\" and then you can remove \"aaaa\".\n",
    "\n",
    "You can remove the first \"aa\" to get \"bbaa\" but it means you'd need to spend another two moves to remove \"bb\" and then \"aa\".\n",
    "\n",
    "In this case, the minimum number of moves required to delete the entire series is 2.\n",
    "\n",
    "**Another example**\n",
    "\n",
    "Suppose we have another series that goes “aabbbcccaacccaa”.\n",
    "\n",
    "What's the minimum number of moves required for this?\n",
    "\n",
    "You can removed the middle \"aa\" first to get “aabbbccccccaa” and then remove “cccccc” to get “aabbbaa”, and then you remove \"bbb\" and subsequently \"aaaa\" to delete the entire series.\n",
    "\n",
    "Boom, 4 moves.\n",
    "\n",
    "**What is the minimum number of steps required to delete this series:**\n",
    "\n",
    "“kjslaqpwoereeeeewwwefifjdksjdfhjdksdjfkdfdlddkjdjfjfjfjjjjfjffnefhkjgefkgjefkjgkefjekihutrieruhigtefhgbjkkkknbmssdsdsfdvneurghiueor\""
   ]
  },
  {
   "cell_type": "code",
   "execution_count": 1,
   "id": "99a263d2",
   "metadata": {},
   "outputs": [
    {
     "data": {
      "text/plain": [
       "83"
      ]
     },
     "execution_count": 1,
     "metadata": {},
     "output_type": "execute_result"
    }
   ],
   "source": [
    "def count_moves(step_count, str_block, str_len, n=1):\n",
    "    \"\"\"\n",
    "    Counts the minimum number of steps required to delete a string\n",
    "    \n",
    "    :param int step_count: The number of times the function is called\n",
    "    :param str str_block: The raw string input\n",
    "    :param int str_len: The length of the raw string intput\n",
    "    :param int n: The distance between characters (default n=1)\n",
    "    :return: Total number of moves\n",
    "    :rtype: Integer\n",
    "    \"\"\"\n",
    "    \n",
    "    # reduce raw string to initial characters only\n",
    "    if (str_block[0] == str_block[-1]) and (str_len > 2):\n",
    "        init_char = ''.join([str_block[i]\n",
    "                                for i in range(str_len)\n",
    "                                if (str_block[i] != str_block[i-1])]\n",
    "                              )\n",
    "        init_char = f'{str_block[0]}{init_char}'\n",
    "    else:\n",
    "        init_char = ''.join([str_block[i]\n",
    "                                for i in range(str_len)\n",
    "                                if (str_block[i] != str_block[i-1])]\n",
    "                              )\n",
    "    \n",
    "    # find orphans within the reduced string\n",
    "    orphans = [[i, init_char[i]] \n",
    "               for i in range(len(init_char))\n",
    "               if (init_char.count(init_char[i]) == 1)\n",
    "              ]\n",
    "    \n",
    "    # find an element in between similar characters\n",
    "    sandwich = [[i, init_char[i]]\n",
    "                for i in range(n, len(init_char)-n-1)\n",
    "                if ((init_char[i-n] == init_char[i+n]) or \n",
    "                    (init_char[i-1-n] == init_char[i+n]) or\n",
    "                    (init_char[i-n] == init_char[i+1+n])\n",
    "                   )\n",
    "               ]\n",
    "    \n",
    "    # return total number of moves when string is deleted\n",
    "    if (len(init_char) == 0):\n",
    "        step_count += 1\n",
    "        return step_count\n",
    "    \n",
    "    # while string is not completely deleted\n",
    "    \n",
    "    # remove orphans from the string\n",
    "    elif (len(orphans) != 0):\n",
    "        init_char = init_char[:orphans[0][0]] + init_char[orphans[0][0]+1:]\n",
    "        step_count += 1\n",
    "        return count_moves(step_count, init_char, len(init_char))\n",
    "    \n",
    "    # remove elements from the string beside similar characters\n",
    "    elif (len(sandwich) != 0):\n",
    "        init_char = init_char[:sandwich[0][0]] + init_char[sandwich[0][0]+1:]\n",
    "        step_count += 1\n",
    "        return count_moves(step_count, init_char, len(init_char))\n",
    "    \n",
    "    else:\n",
    "        n += 1\n",
    "        return count_moves(step_count, init_char, len(init_char), n)\n",
    "\n",
    "given = \"kjslaqpwoereeeeewwwefifjdksjdfhjdksdjfkdfdlddkjdjfjfjfjjjjfjffnefhkjgefkgjefkjgkefjekihutrieruhigtefhgbjkkkknbmssdsdsfdvneurghiueor\"\n",
    "step_count = 0\n",
    "given_len = len(given)\n",
    "\n",
    "count_moves(step_count, given, given_len)"
   ]
  },
  {
   "cell_type": "markdown",
   "id": "6b4448c4",
   "metadata": {},
   "source": [
    "The minimum number of steps required to delete the given series is **83**."
   ]
  }
 ],
 "metadata": {
  "kernelspec": {
   "display_name": "Python 3 (ipykernel)",
   "language": "python",
   "name": "python3"
  },
  "language_info": {
   "codemirror_mode": {
    "name": "ipython",
    "version": 3
   },
   "file_extension": ".py",
   "mimetype": "text/x-python",
   "name": "python",
   "nbconvert_exporter": "python",
   "pygments_lexer": "ipython3",
   "version": "3.9.13"
  }
 },
 "nbformat": 4,
 "nbformat_minor": 5
}
