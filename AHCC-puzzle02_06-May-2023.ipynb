{
 "cells": [
  {
   "cell_type": "markdown",
   "id": "673f3722",
   "metadata": {},
   "source": [
    "## Question 2: Who's the fastest runner? (1 mark)\n",
    "\n",
    "Run run run away! A group of friends wanted to know who is the fastest amongst them, and decided to hold a running race.\n",
    "\n",
    "It wasn't fun just running, so they decided to go for a marathon. These guys are good, but must rest occasionally to recover their energy.\n",
    "\n",
    "Did I mention that these people are weird? They can only be running (always at the top speed), or resting (not moving at all), and can only spend **interger amounts of time** in either state.\n",
    "\n",
    "```\n",
    "Example case:\n",
    "\n",
    "John can run 10m/s for 6 seconds, but them must rest for 20 seconds. James can run 8m/s for 8 seconfs, but then must rest for 25 seconds.\n",
    "\n",
    "After one second (T=1), John has gone 10m, while James has gone 8m. After 6 seconds (T=6), John has gone 60m, while James has gone 48m. On the 7th second, John begins resting (staying at 60m), while James continues on for a total distance of 64m. On the 9th second, both runners are resting. They continue to rest until the 27th second when John runs for another 6 seconds. On the 34th second, James runs for another 8 seconds.\n",
    "\n",
    "At the 100th second, John is resting after running 240m while James has travelled 200m. In this case, John would have won if the race ended at 100 seconds.\n",
    "```\n",
    "\n",
    "Here are the descriptions of this group of friends:\n",
    "1. John can run 10m/s for 6 seconds, but then must rest for 20 seconds.\n",
    "2. James can run 8m/s for 8 seconds, but then must rest for 25 seconds.\n",
    "3. Jenna can run 12m/s for 5 seconds, but then must rest for 16 seconds.\n",
    "4. Josh can run 7m/s for 7 seconds, but then must rest for 23 seconds.\n",
    "5. Jacob can run 9m/s for 4 seconds, but then must rest for 32 seconds.\n",
    "6. Jerry can run 5m/s for 9 seconds, but then must rest for 18 seconds.\n",
    "\n",
    "After 1234 seconds, what is the distance of the winning runner?"
   ]
  },
  {
   "cell_type": "code",
   "execution_count": 1,
   "id": "61036c2d",
   "metadata": {},
   "outputs": [
    {
     "name": "stdout",
     "output_type": "stream",
     "text": [
      "Jenna at 3540\n"
     ]
    }
   ],
   "source": [
    "# define the variables\n",
    "T=1234\n",
    "runners = ['John', 'James', 'Jenna', 'Josh', 'Jacob', 'Jerry']\n",
    "rate=[10,8,12,7,9,5]\n",
    "run=[6,8,5,7,4,9]\n",
    "rest=[20,25,16,23,32,18]\n",
    "distance=[]\n",
    "\n",
    "# compute for distance of runners\n",
    "for i in range(6):\n",
    "    cycle = run[i] + rest[i]\n",
    "    speed = run[i] * rate[i]\n",
    "    multiplier = int(T/cycle)\n",
    "    remainder = T - (multiplier * cycle)\n",
    "    if (remainder > run[i]):\n",
    "        distance.append(int((multiplier + 1) * speed))\n",
    "    else:\n",
    "        distance.append(int((multiplier + (remainder/run[i])) * speed))\n",
    "        \n",
    "print(runners[distance.index(max(distance))], \"at\", max(distance))"
   ]
  },
  {
   "cell_type": "markdown",
   "id": "32cc4ef0",
   "metadata": {},
   "source": [
    "The winning runner, **Jenna**, ran the distance of **3540m** after 1234 seconds."
   ]
  }
 ],
 "metadata": {
  "kernelspec": {
   "display_name": "Python 3 (ipykernel)",
   "language": "python",
   "name": "python3"
  },
  "language_info": {
   "codemirror_mode": {
    "name": "ipython",
    "version": 3
   },
   "file_extension": ".py",
   "mimetype": "text/x-python",
   "name": "python",
   "nbconvert_exporter": "python",
   "pygments_lexer": "ipython3",
   "version": "3.9.13"
  }
 },
 "nbformat": 4,
 "nbformat_minor": 5
}
