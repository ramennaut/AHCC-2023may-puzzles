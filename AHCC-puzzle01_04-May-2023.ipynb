{
 "cells": [
  {
   "cell_type": "markdown",
   "id": "673f3722",
   "metadata": {},
   "source": [
    "## Question 1: Which floor am I on (1 mark)\n",
    "\n",
    "John was visiting a friend one day who lived in an apartment, but the instructions that he received were a bit confusing. When he arrives, he starts on the ground floor (floor 0) and has to dollow the instructions one character at a time.\n",
    "\n",
    "A left arrow (`<`) means going up one floor, and a right arrow (`>`) means going down one floor.\n",
    "\n",
    "For example:\n",
    "\n",
    "- `<<>>` results in Floor 0, because he goes up twice (`<<`) and then goes down twice (`>>`).\n",
    "- `<><>` results in Floor 0 as well because he goes up once, followed by down once.\n",
    "- `<<<` results in Floor 3.\n",
    "- `>><<<>>` results in Floor -1.\n",
    "\n",
    "This is what John saw:\n",
    "\n",
    "`<<<<<<><><><><<<<><><><><><<<<><><><><><>>>><<><><><><><><><><>>>><<<<<><><><><><<<<<><><><><><><<<<><><><><><><><><><><><<<<<<><><<><><>>><<>><<><<>><><<><><><><><><><<<<<<<<<>><<><><<<><><><><<<<<<>>>>>>>>>>><>><><><>><<<><><><><<><><<><><><><><><><<<<><><><>><<>>>>><><><>><<<><><><><><><>><><><><><><><><><><><><><><><><><<<><><><><><><><><><><><><><><><><><>>>><><><><><><><><><>><<<<<<<<<<>>>>><<<<<>>>><<<<>><<><<><><><><><><><><><><<<<<<<><><<><<><<><<><><><><><<>><><>><><><><><<><<<<<>><<<<><><<<><>>><<><>>>>><>>><<><<><><><><<>><><><><><><><><><><><><><><><><<<<><><<<<><<<>>>>>>>>><<><<<>>>>><<<<<<<<<>>>><<><>><><<><<>><<>><<>><`\n",
    "\n",
    "Which floor did he end up on?"
   ]
  },
  {
   "cell_type": "code",
   "execution_count": 6,
   "id": "61036c2d",
   "metadata": {},
   "outputs": [
    {
     "name": "stdout",
     "output_type": "stream",
     "text": [
      "56\n"
     ]
    }
   ],
   "source": [
    "# input the instructions\n",
    "instructions = \"<<<<<<><><><><<<<><><><><><<<<><><><><><>>>><<><><><><><><><><>>>><<<<<><><><><><<<<<><><><><><><<<<><><><><><><><><><><><<<<<<><><<><><>>><<>><<><<>><><<><><><><><><><<<<<<<<<>><<><><<<><><><><<<<<<>>>>>>>>>>><>><><><>><<<><><><><<><><<><><><><><><><<<<><><><>><<>>>>><><><>><<<><><><><><><>><><><><><><><><><><><><><><><><><<<><><><><><><><><><><><><><><><><><>>>><><><><><><><><><>><<<<<<<<<<>>>>><<<<<>>>><<<<>><<><<><><><><><><><><><><<<<<<<><><<><<><<><<><><><><><<>><><>><><><><><<><<<<<>><<<<><><<<><>>><<><>>>>><>>><<><<><><><><<>><><><><><><><><><><><><><><><><<<<><><<<<><<<>>>>>>>>><<><<<>>>>><<<<<<<<<>>>><<><>><><<><<>><<>><<>><\"\n",
    "\n",
    "# make an algorithm for going up and down\n",
    "floor = 0\n",
    "for i in range(len(instructions)):\n",
    "    if (instructions[i] == \"<\"):\n",
    "        floor += 1\n",
    "    else:\n",
    "        floor -= 1\n",
    "\n",
    "# print the answer\n",
    "print(floor)"
   ]
  },
  {
   "cell_type": "markdown",
   "id": "32cc4ef0",
   "metadata": {},
   "source": [
    "John is on the **56th floor**."
   ]
  }
 ],
 "metadata": {
  "kernelspec": {
   "display_name": "Python 3 (ipykernel)",
   "language": "python",
   "name": "python3"
  },
  "language_info": {
   "codemirror_mode": {
    "name": "ipython",
    "version": 3
   },
   "file_extension": ".py",
   "mimetype": "text/x-python",
   "name": "python",
   "nbconvert_exporter": "python",
   "pygments_lexer": "ipython3",
   "version": "3.9.13"
  }
 },
 "nbformat": 4,
 "nbformat_minor": 5
}
