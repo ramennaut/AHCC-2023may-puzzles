{
 "cells": [
  {
   "cell_type": "markdown",
   "id": "673f3722",
   "metadata": {},
   "source": [
    "## Question 3: Is the permutation divisible by 7? (1 mark)\n",
    "\n",
    "Given an integer string, create all integer permutations of its digits. Determine if there is a permutation whose integer value is evenly divisible by 7, i.e., `(permutation value) mod 7=0`.\n",
    "\n",
    "For example, the possible permutations of 789 are `p = {789, 798, 879, 897, 978, 987}`. Of\n",
    "these values, `p[2]` and `p[5]` is divisible by 7 because `879 mod 7 = 0` and `987 mod 7 = 0`.\n",
    "\n",
    "Their average is `(879+897)/2=933`.\n",
    "\n",
    "What you'll need to do is determine if any of the permutations of 1867 are divisible by 7, and if so, what is the average between the smallest and largest permutation? Decimals are allowed."
   ]
  },
  {
   "cell_type": "code",
   "execution_count": 1,
   "id": "d8a9df68",
   "metadata": {},
   "outputs": [
    {
     "name": "stdout",
     "output_type": "stream",
     "text": [
      "The following permuations are divisible by 7: [1876, 1687, 8176, 8617, 7861, 7168]\n",
      "5152.0\n"
     ]
    }
   ],
   "source": [
    "# find the possible permutations of the string\n",
    "def permutations(N, i=0, p=None):\n",
    "    if p is None:\n",
    "        p = []\n",
    "    if i == len(N):\n",
    "        p.append(int(\"\".join(N)))\n",
    "    for j in range(i, len(N)):\n",
    "        num = [d for d in N]\n",
    "        num[i], num[j] = num[j], num[i]\n",
    "        permutations(num, i+1, p)\n",
    "    return p\n",
    "\n",
    "p_list = permutations(str(1867))\n",
    "\n",
    "# determine which permutations are divisible by 7\n",
    "p_div = []\n",
    "for k in range(len(p_list)):\n",
    "    if p_list[k] % 7 == 0:\n",
    "        p_div.append(p_list[k])\n",
    "\n",
    "print(\"The following permuations are divisible by 7:\", p_div)\n",
    "        \n",
    "# average the smallest and largest permutation among those divisible by 7\n",
    "print(int(min(p_div) + max(p_div))/2)"
   ]
  },
  {
   "cell_type": "markdown",
   "id": "062bf8ff",
   "metadata": {},
   "source": [
    "The average between the smallest and largest permutation is **5152**."
   ]
  }
 ],
 "metadata": {
  "kernelspec": {
   "display_name": "Python 3 (ipykernel)",
   "language": "python",
   "name": "python3"
  },
  "language_info": {
   "codemirror_mode": {
    "name": "ipython",
    "version": 3
   },
   "file_extension": ".py",
   "mimetype": "text/x-python",
   "name": "python",
   "nbconvert_exporter": "python",
   "pygments_lexer": "ipython3",
   "version": "3.9.13"
  }
 },
 "nbformat": 4,
 "nbformat_minor": 5
}
